{
 "cells": [
  {
   "cell_type": "code",
   "execution_count": 7,
   "id": "initial_id",
   "metadata": {
    "collapsed": true,
    "ExecuteTime": {
     "end_time": "2024-01-03T12:56:29.502603600Z",
     "start_time": "2024-01-03T12:56:29.436383Z"
    }
   },
   "outputs": [],
   "source": [
    "import pandas as pd\n",
    "import tensorflow as tf\n",
    "import tensorflow_decision_forests as tfdf\n",
    "import numpy as np\n",
    "import seaborn as sns\n",
    "import matplotlib.pyplot as plt"
   ]
  },
  {
   "cell_type": "code",
   "outputs": [],
   "source": [
    "train = pd.read_csv(\"train.csv\")\n",
    "test = pd.read_csv(\"test.csv\")"
   ],
   "metadata": {
    "collapsed": false,
    "ExecuteTime": {
     "end_time": "2024-01-03T12:56:29.596880700Z",
     "start_time": "2024-01-03T12:56:29.508955500Z"
    }
   },
   "id": "4628d21f8468188a",
   "execution_count": 8
  },
  {
   "cell_type": "code",
   "outputs": [
    {
     "data": {
      "text/plain": "   PassengerId HomePlanet CryoSleep  Cabin    Destination   Age    VIP  \\\n0      0001_01     Europa     False  B/0/P    TRAPPIST-1e  39.0  False   \n1      0002_01      Earth     False  F/0/S    TRAPPIST-1e  24.0  False   \n2      0003_01     Europa     False  A/0/S    TRAPPIST-1e  58.0   True   \n3      0003_02     Europa     False  A/0/S    TRAPPIST-1e  33.0  False   \n4      0004_01      Earth     False  F/1/S    TRAPPIST-1e  16.0  False   \n5      0005_01      Earth     False  F/0/P  PSO J318.5-22  44.0  False   \n6      0006_01      Earth     False  F/2/S    TRAPPIST-1e  26.0  False   \n7      0006_02      Earth      True  G/0/S    TRAPPIST-1e  28.0  False   \n8      0007_01      Earth     False  F/3/S    TRAPPIST-1e  35.0  False   \n9      0008_01     Europa      True  B/1/P    55 Cancri e  14.0  False   \n10     0008_02     Europa      True  B/1/P    TRAPPIST-1e  34.0  False   \n11     0008_03     Europa     False  B/1/P    55 Cancri e  45.0  False   \n12     0009_01       Mars     False  F/1/P    TRAPPIST-1e  32.0  False   \n13     0010_01      Earth     False  G/1/S    TRAPPIST-1e  48.0  False   \n14     0011_01      Earth     False  F/2/P    TRAPPIST-1e  28.0  False   \n15     0012_01      Earth     False    NaN    TRAPPIST-1e  31.0  False   \n16     0014_01       Mars     False  F/3/P    55 Cancri e  27.0  False   \n17     0015_01      Earth     False  F/4/P    55 Cancri e  24.0  False   \n18     0016_01       Mars      True  F/5/P    TRAPPIST-1e  45.0  False   \n19     0017_01      Earth     False  G/0/P    TRAPPIST-1e   0.0  False   \n\n    RoomService  FoodCourt  ShoppingMall     Spa  VRDeck                Name  \\\n0           0.0        0.0           0.0     0.0     0.0     Maham Ofracculy   \n1         109.0        9.0          25.0   549.0    44.0        Juanna Vines   \n2          43.0     3576.0           0.0  6715.0    49.0       Altark Susent   \n3           0.0     1283.0         371.0  3329.0   193.0        Solam Susent   \n4         303.0       70.0         151.0   565.0     2.0   Willy Santantines   \n5           0.0      483.0           0.0   291.0     0.0   Sandie Hinetthews   \n6          42.0     1539.0           3.0     0.0     0.0  Billex Jacostaffey   \n7           0.0        0.0           0.0     0.0     NaN  Candra Jacostaffey   \n8           0.0      785.0          17.0   216.0     0.0       Andona Beston   \n9           0.0        0.0           0.0     0.0     0.0      Erraiam Flatic   \n10          0.0        0.0           NaN     0.0     0.0      Altardr Flatic   \n11         39.0     7295.0         589.0   110.0   124.0       Wezena Flatic   \n12         73.0        0.0        1123.0     0.0   113.0        Berers Barne   \n13        719.0        1.0          65.0     0.0    24.0      Reney Baketton   \n14          8.0      974.0          12.0     2.0     7.0     Elle Bertsontry   \n15         32.0        0.0         876.0     0.0     0.0       Justie Pooles   \n16       1286.0      122.0           NaN     0.0     0.0         Flats Eccle   \n17          0.0        1.0           0.0     0.0   637.0     Carry Hughriend   \n18          0.0        0.0           0.0     0.0     0.0          Alus Upead   \n19          0.0        0.0           0.0     0.0     0.0       Lyde Brighttt   \n\n    Transported  \n0         False  \n1          True  \n2         False  \n3         False  \n4          True  \n5          True  \n6          True  \n7          True  \n8          True  \n9          True  \n10         True  \n11         True  \n12         True  \n13        False  \n14         True  \n15        False  \n16        False  \n17        False  \n18         True  \n19         True  ",
      "text/html": "<div>\n<style scoped>\n    .dataframe tbody tr th:only-of-type {\n        vertical-align: middle;\n    }\n\n    .dataframe tbody tr th {\n        vertical-align: top;\n    }\n\n    .dataframe thead th {\n        text-align: right;\n    }\n</style>\n<table border=\"1\" class=\"dataframe\">\n  <thead>\n    <tr style=\"text-align: right;\">\n      <th></th>\n      <th>PassengerId</th>\n      <th>HomePlanet</th>\n      <th>CryoSleep</th>\n      <th>Cabin</th>\n      <th>Destination</th>\n      <th>Age</th>\n      <th>VIP</th>\n      <th>RoomService</th>\n      <th>FoodCourt</th>\n      <th>ShoppingMall</th>\n      <th>Spa</th>\n      <th>VRDeck</th>\n      <th>Name</th>\n      <th>Transported</th>\n    </tr>\n  </thead>\n  <tbody>\n    <tr>\n      <th>0</th>\n      <td>0001_01</td>\n      <td>Europa</td>\n      <td>False</td>\n      <td>B/0/P</td>\n      <td>TRAPPIST-1e</td>\n      <td>39.0</td>\n      <td>False</td>\n      <td>0.0</td>\n      <td>0.0</td>\n      <td>0.0</td>\n      <td>0.0</td>\n      <td>0.0</td>\n      <td>Maham Ofracculy</td>\n      <td>False</td>\n    </tr>\n    <tr>\n      <th>1</th>\n      <td>0002_01</td>\n      <td>Earth</td>\n      <td>False</td>\n      <td>F/0/S</td>\n      <td>TRAPPIST-1e</td>\n      <td>24.0</td>\n      <td>False</td>\n      <td>109.0</td>\n      <td>9.0</td>\n      <td>25.0</td>\n      <td>549.0</td>\n      <td>44.0</td>\n      <td>Juanna Vines</td>\n      <td>True</td>\n    </tr>\n    <tr>\n      <th>2</th>\n      <td>0003_01</td>\n      <td>Europa</td>\n      <td>False</td>\n      <td>A/0/S</td>\n      <td>TRAPPIST-1e</td>\n      <td>58.0</td>\n      <td>True</td>\n      <td>43.0</td>\n      <td>3576.0</td>\n      <td>0.0</td>\n      <td>6715.0</td>\n      <td>49.0</td>\n      <td>Altark Susent</td>\n      <td>False</td>\n    </tr>\n    <tr>\n      <th>3</th>\n      <td>0003_02</td>\n      <td>Europa</td>\n      <td>False</td>\n      <td>A/0/S</td>\n      <td>TRAPPIST-1e</td>\n      <td>33.0</td>\n      <td>False</td>\n      <td>0.0</td>\n      <td>1283.0</td>\n      <td>371.0</td>\n      <td>3329.0</td>\n      <td>193.0</td>\n      <td>Solam Susent</td>\n      <td>False</td>\n    </tr>\n    <tr>\n      <th>4</th>\n      <td>0004_01</td>\n      <td>Earth</td>\n      <td>False</td>\n      <td>F/1/S</td>\n      <td>TRAPPIST-1e</td>\n      <td>16.0</td>\n      <td>False</td>\n      <td>303.0</td>\n      <td>70.0</td>\n      <td>151.0</td>\n      <td>565.0</td>\n      <td>2.0</td>\n      <td>Willy Santantines</td>\n      <td>True</td>\n    </tr>\n    <tr>\n      <th>5</th>\n      <td>0005_01</td>\n      <td>Earth</td>\n      <td>False</td>\n      <td>F/0/P</td>\n      <td>PSO J318.5-22</td>\n      <td>44.0</td>\n      <td>False</td>\n      <td>0.0</td>\n      <td>483.0</td>\n      <td>0.0</td>\n      <td>291.0</td>\n      <td>0.0</td>\n      <td>Sandie Hinetthews</td>\n      <td>True</td>\n    </tr>\n    <tr>\n      <th>6</th>\n      <td>0006_01</td>\n      <td>Earth</td>\n      <td>False</td>\n      <td>F/2/S</td>\n      <td>TRAPPIST-1e</td>\n      <td>26.0</td>\n      <td>False</td>\n      <td>42.0</td>\n      <td>1539.0</td>\n      <td>3.0</td>\n      <td>0.0</td>\n      <td>0.0</td>\n      <td>Billex Jacostaffey</td>\n      <td>True</td>\n    </tr>\n    <tr>\n      <th>7</th>\n      <td>0006_02</td>\n      <td>Earth</td>\n      <td>True</td>\n      <td>G/0/S</td>\n      <td>TRAPPIST-1e</td>\n      <td>28.0</td>\n      <td>False</td>\n      <td>0.0</td>\n      <td>0.0</td>\n      <td>0.0</td>\n      <td>0.0</td>\n      <td>NaN</td>\n      <td>Candra Jacostaffey</td>\n      <td>True</td>\n    </tr>\n    <tr>\n      <th>8</th>\n      <td>0007_01</td>\n      <td>Earth</td>\n      <td>False</td>\n      <td>F/3/S</td>\n      <td>TRAPPIST-1e</td>\n      <td>35.0</td>\n      <td>False</td>\n      <td>0.0</td>\n      <td>785.0</td>\n      <td>17.0</td>\n      <td>216.0</td>\n      <td>0.0</td>\n      <td>Andona Beston</td>\n      <td>True</td>\n    </tr>\n    <tr>\n      <th>9</th>\n      <td>0008_01</td>\n      <td>Europa</td>\n      <td>True</td>\n      <td>B/1/P</td>\n      <td>55 Cancri e</td>\n      <td>14.0</td>\n      <td>False</td>\n      <td>0.0</td>\n      <td>0.0</td>\n      <td>0.0</td>\n      <td>0.0</td>\n      <td>0.0</td>\n      <td>Erraiam Flatic</td>\n      <td>True</td>\n    </tr>\n    <tr>\n      <th>10</th>\n      <td>0008_02</td>\n      <td>Europa</td>\n      <td>True</td>\n      <td>B/1/P</td>\n      <td>TRAPPIST-1e</td>\n      <td>34.0</td>\n      <td>False</td>\n      <td>0.0</td>\n      <td>0.0</td>\n      <td>NaN</td>\n      <td>0.0</td>\n      <td>0.0</td>\n      <td>Altardr Flatic</td>\n      <td>True</td>\n    </tr>\n    <tr>\n      <th>11</th>\n      <td>0008_03</td>\n      <td>Europa</td>\n      <td>False</td>\n      <td>B/1/P</td>\n      <td>55 Cancri e</td>\n      <td>45.0</td>\n      <td>False</td>\n      <td>39.0</td>\n      <td>7295.0</td>\n      <td>589.0</td>\n      <td>110.0</td>\n      <td>124.0</td>\n      <td>Wezena Flatic</td>\n      <td>True</td>\n    </tr>\n    <tr>\n      <th>12</th>\n      <td>0009_01</td>\n      <td>Mars</td>\n      <td>False</td>\n      <td>F/1/P</td>\n      <td>TRAPPIST-1e</td>\n      <td>32.0</td>\n      <td>False</td>\n      <td>73.0</td>\n      <td>0.0</td>\n      <td>1123.0</td>\n      <td>0.0</td>\n      <td>113.0</td>\n      <td>Berers Barne</td>\n      <td>True</td>\n    </tr>\n    <tr>\n      <th>13</th>\n      <td>0010_01</td>\n      <td>Earth</td>\n      <td>False</td>\n      <td>G/1/S</td>\n      <td>TRAPPIST-1e</td>\n      <td>48.0</td>\n      <td>False</td>\n      <td>719.0</td>\n      <td>1.0</td>\n      <td>65.0</td>\n      <td>0.0</td>\n      <td>24.0</td>\n      <td>Reney Baketton</td>\n      <td>False</td>\n    </tr>\n    <tr>\n      <th>14</th>\n      <td>0011_01</td>\n      <td>Earth</td>\n      <td>False</td>\n      <td>F/2/P</td>\n      <td>TRAPPIST-1e</td>\n      <td>28.0</td>\n      <td>False</td>\n      <td>8.0</td>\n      <td>974.0</td>\n      <td>12.0</td>\n      <td>2.0</td>\n      <td>7.0</td>\n      <td>Elle Bertsontry</td>\n      <td>True</td>\n    </tr>\n    <tr>\n      <th>15</th>\n      <td>0012_01</td>\n      <td>Earth</td>\n      <td>False</td>\n      <td>NaN</td>\n      <td>TRAPPIST-1e</td>\n      <td>31.0</td>\n      <td>False</td>\n      <td>32.0</td>\n      <td>0.0</td>\n      <td>876.0</td>\n      <td>0.0</td>\n      <td>0.0</td>\n      <td>Justie Pooles</td>\n      <td>False</td>\n    </tr>\n    <tr>\n      <th>16</th>\n      <td>0014_01</td>\n      <td>Mars</td>\n      <td>False</td>\n      <td>F/3/P</td>\n      <td>55 Cancri e</td>\n      <td>27.0</td>\n      <td>False</td>\n      <td>1286.0</td>\n      <td>122.0</td>\n      <td>NaN</td>\n      <td>0.0</td>\n      <td>0.0</td>\n      <td>Flats Eccle</td>\n      <td>False</td>\n    </tr>\n    <tr>\n      <th>17</th>\n      <td>0015_01</td>\n      <td>Earth</td>\n      <td>False</td>\n      <td>F/4/P</td>\n      <td>55 Cancri e</td>\n      <td>24.0</td>\n      <td>False</td>\n      <td>0.0</td>\n      <td>1.0</td>\n      <td>0.0</td>\n      <td>0.0</td>\n      <td>637.0</td>\n      <td>Carry Hughriend</td>\n      <td>False</td>\n    </tr>\n    <tr>\n      <th>18</th>\n      <td>0016_01</td>\n      <td>Mars</td>\n      <td>True</td>\n      <td>F/5/P</td>\n      <td>TRAPPIST-1e</td>\n      <td>45.0</td>\n      <td>False</td>\n      <td>0.0</td>\n      <td>0.0</td>\n      <td>0.0</td>\n      <td>0.0</td>\n      <td>0.0</td>\n      <td>Alus Upead</td>\n      <td>True</td>\n    </tr>\n    <tr>\n      <th>19</th>\n      <td>0017_01</td>\n      <td>Earth</td>\n      <td>False</td>\n      <td>G/0/P</td>\n      <td>TRAPPIST-1e</td>\n      <td>0.0</td>\n      <td>False</td>\n      <td>0.0</td>\n      <td>0.0</td>\n      <td>0.0</td>\n      <td>0.0</td>\n      <td>0.0</td>\n      <td>Lyde Brighttt</td>\n      <td>True</td>\n    </tr>\n  </tbody>\n</table>\n</div>"
     },
     "execution_count": 13,
     "metadata": {},
     "output_type": "execute_result"
    }
   ],
   "source": [
    "train.head(10)"
   ],
   "metadata": {
    "collapsed": false,
    "ExecuteTime": {
     "end_time": "2024-01-03T13:08:33.706680400Z",
     "start_time": "2024-01-03T13:08:33.687526400Z"
    }
   },
   "id": "de1ede65633eab82",
   "execution_count": 13
  },
  {
   "cell_type": "code",
   "outputs": [
    {
     "data": {
      "text/plain": "               Age   RoomService     FoodCourt  ShoppingMall           Spa  \\\ncount  8514.000000   8512.000000   8510.000000   8485.000000   8510.000000   \nmean     28.827930    224.687617    458.077203    173.729169    311.138778   \nstd      14.489021    666.717663   1611.489240    604.696458   1136.705535   \nmin       0.000000      0.000000      0.000000      0.000000      0.000000   \n25%      19.000000      0.000000      0.000000      0.000000      0.000000   \n50%      27.000000      0.000000      0.000000      0.000000      0.000000   \n75%      38.000000     47.000000     76.000000     27.000000     59.000000   \nmax      79.000000  14327.000000  29813.000000  23492.000000  22408.000000   \n\n             VRDeck  \ncount   8505.000000  \nmean     304.854791  \nstd     1145.717189  \nmin        0.000000  \n25%        0.000000  \n50%        0.000000  \n75%       46.000000  \nmax    24133.000000  ",
      "text/html": "<div>\n<style scoped>\n    .dataframe tbody tr th:only-of-type {\n        vertical-align: middle;\n    }\n\n    .dataframe tbody tr th {\n        vertical-align: top;\n    }\n\n    .dataframe thead th {\n        text-align: right;\n    }\n</style>\n<table border=\"1\" class=\"dataframe\">\n  <thead>\n    <tr style=\"text-align: right;\">\n      <th></th>\n      <th>Age</th>\n      <th>RoomService</th>\n      <th>FoodCourt</th>\n      <th>ShoppingMall</th>\n      <th>Spa</th>\n      <th>VRDeck</th>\n    </tr>\n  </thead>\n  <tbody>\n    <tr>\n      <th>count</th>\n      <td>8514.000000</td>\n      <td>8512.000000</td>\n      <td>8510.000000</td>\n      <td>8485.000000</td>\n      <td>8510.000000</td>\n      <td>8505.000000</td>\n    </tr>\n    <tr>\n      <th>mean</th>\n      <td>28.827930</td>\n      <td>224.687617</td>\n      <td>458.077203</td>\n      <td>173.729169</td>\n      <td>311.138778</td>\n      <td>304.854791</td>\n    </tr>\n    <tr>\n      <th>std</th>\n      <td>14.489021</td>\n      <td>666.717663</td>\n      <td>1611.489240</td>\n      <td>604.696458</td>\n      <td>1136.705535</td>\n      <td>1145.717189</td>\n    </tr>\n    <tr>\n      <th>min</th>\n      <td>0.000000</td>\n      <td>0.000000</td>\n      <td>0.000000</td>\n      <td>0.000000</td>\n      <td>0.000000</td>\n      <td>0.000000</td>\n    </tr>\n    <tr>\n      <th>25%</th>\n      <td>19.000000</td>\n      <td>0.000000</td>\n      <td>0.000000</td>\n      <td>0.000000</td>\n      <td>0.000000</td>\n      <td>0.000000</td>\n    </tr>\n    <tr>\n      <th>50%</th>\n      <td>27.000000</td>\n      <td>0.000000</td>\n      <td>0.000000</td>\n      <td>0.000000</td>\n      <td>0.000000</td>\n      <td>0.000000</td>\n    </tr>\n    <tr>\n      <th>75%</th>\n      <td>38.000000</td>\n      <td>47.000000</td>\n      <td>76.000000</td>\n      <td>27.000000</td>\n      <td>59.000000</td>\n      <td>46.000000</td>\n    </tr>\n    <tr>\n      <th>max</th>\n      <td>79.000000</td>\n      <td>14327.000000</td>\n      <td>29813.000000</td>\n      <td>23492.000000</td>\n      <td>22408.000000</td>\n      <td>24133.000000</td>\n    </tr>\n  </tbody>\n</table>\n</div>"
     },
     "execution_count": 14,
     "metadata": {},
     "output_type": "execute_result"
    }
   ],
   "source": [
    "train.describe()"
   ],
   "metadata": {
    "collapsed": false,
    "ExecuteTime": {
     "end_time": "2024-01-03T13:08:49.165799900Z",
     "start_time": "2024-01-03T13:08:49.098866600Z"
    }
   },
   "id": "743052f94abbb70e",
   "execution_count": 14
  },
  {
   "cell_type": "code",
   "outputs": [
    {
     "name": "stdout",
     "output_type": "stream",
     "text": [
      "<class 'pandas.core.frame.DataFrame'>\n",
      "RangeIndex: 8693 entries, 0 to 8692\n",
      "Data columns (total 14 columns):\n",
      " #   Column        Non-Null Count  Dtype  \n",
      "---  ------        --------------  -----  \n",
      " 0   PassengerId   8693 non-null   object \n",
      " 1   HomePlanet    8492 non-null   object \n",
      " 2   CryoSleep     8476 non-null   object \n",
      " 3   Cabin         8494 non-null   object \n",
      " 4   Destination   8511 non-null   object \n",
      " 5   Age           8514 non-null   float64\n",
      " 6   VIP           8490 non-null   object \n",
      " 7   RoomService   8512 non-null   float64\n",
      " 8   FoodCourt     8510 non-null   float64\n",
      " 9   ShoppingMall  8485 non-null   float64\n",
      " 10  Spa           8510 non-null   float64\n",
      " 11  VRDeck        8505 non-null   float64\n",
      " 12  Name          8493 non-null   object \n",
      " 13  Transported   8693 non-null   bool   \n",
      "dtypes: bool(1), float64(6), object(7)\n",
      "memory usage: 891.5+ KB\n"
     ]
    }
   ],
   "source": [
    "train.info()"
   ],
   "metadata": {
    "collapsed": false,
    "ExecuteTime": {
     "end_time": "2024-01-03T13:09:34.883794700Z",
     "start_time": "2024-01-03T13:09:34.847002900Z"
    }
   },
   "id": "2dffe118743e1294",
   "execution_count": 16
  }
 ],
 "metadata": {
  "kernelspec": {
   "display_name": "Python 3",
   "language": "python",
   "name": "python3"
  },
  "language_info": {
   "codemirror_mode": {
    "name": "ipython",
    "version": 2
   },
   "file_extension": ".py",
   "mimetype": "text/x-python",
   "name": "python",
   "nbconvert_exporter": "python",
   "pygments_lexer": "ipython2",
   "version": "2.7.6"
  }
 },
 "nbformat": 4,
 "nbformat_minor": 5
}
